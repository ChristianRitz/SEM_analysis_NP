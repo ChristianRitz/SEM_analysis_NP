{
 "cells": [
  {
   "cell_type": "code",
   "execution_count": null,
   "metadata": {},
   "outputs": [],
   "source": [
    "from ipywidgets import interactive\n",
    "import os\n",
    "import matplotlib.pyplot as plt\n",
    "import numpy as np\n",
    "from sem_image import SEM_image\n",
    "from tqdm import tqdm\n",
    "\n",
    "from scipy.ndimage import gaussian_filter"
   ]
  },
  {
   "cell_type": "code",
   "execution_count": null,
   "metadata": {},
   "outputs": [],
   "source": [
    "%matplotlib notebook"
   ]
  },
  {
   "cell_type": "code",
   "execution_count": null,
   "metadata": {},
   "outputs": [],
   "source": [
    "BATCH = 'Batch 220301'\n",
    "\n",
    "\n",
    "#load SEM data\n",
    "filenames = []\n",
    "for file in os.listdir('./data/' + BATCH + '/'):\n",
    "    if file.endswith('.tif'):\n",
    "        filenames.append(file[:-4])\n",
    "filenames.sort()\n",
    "SEM = {}\n",
    "for name in tqdm(filenames):\n",
    "    #SEM[name] = SEM_image('./'+name, Y_PXLS) # <- use this function to cut off scalebar (set Y_PXLS)\n",
    "    SEM[name] = SEM_image('./data/' + BATCH + '/'+name)\n",
    "    SEM[name].calculate_fft2D()\n",
    "    SEM[name].calculate_radial_fft(N=500, R_min=6, R_max=12)\n",
    "    SEM[name].fit_RDF()"
   ]
  },
  {
   "cell_type": "code",
   "execution_count": null,
   "metadata": {},
   "outputs": [],
   "source": [
    "fig0,ax0 = plt.subplots()\n",
    "def update_plot(name):\n",
    "    SEM[name].show_image(fig0, ax0)\n",
    "display(interactive(update_plot, name=filenames))"
   ]
  },
  {
   "cell_type": "code",
   "execution_count": null,
   "metadata": {},
   "outputs": [],
   "source": [
    "fig1,ax1 = plt.subplots()\n",
    "def update_plot(name):\n",
    "    SEM[name].show_fft2D(fig1, ax1)\n",
    "display(interactive(update_plot, name=filenames))\n",
    "\n",
    "#For scaled FFT images, use the following function instead (slow):\n",
    "#    SEM[name].show_fft2D_scaled(fig, ax)"
   ]
  },
  {
   "cell_type": "code",
   "execution_count": null,
   "metadata": {},
   "outputs": [],
   "source": [
    "fig2,ax2 = plt.subplots()\n",
    "def update_plot(i=0):\n",
    "    name=filenames[i]\n",
    "    SEM[name].show_RDF_fit(fig2,ax2)\n",
    "    ax2.set_title(name)\n",
    "display(interactive(update_plot, i=(0,len(filenames)-1)))"
   ]
  },
  {
   "cell_type": "code",
   "execution_count": null,
   "metadata": {
    "scrolled": false
   },
   "outputs": [],
   "source": [
    "#setup for summarizing graphs\n",
    "\n",
    "def get_color(name):\n",
    "    if ('0min' == name[:4]) or ('00min' == name[:5]): return 'k'\n",
    "    elif ('2min' == name[:4]) or ('02min' == name[:5]): return 'steelblue'\n",
    "    elif ('4min' == name[:4]) or ('04min' == name[:5]): return 'limegreen'\n",
    "    elif ('6min' == name[:4]) or ('06min' == name[:5]): return 'forestgreen'\n",
    "    elif ('8min' == name[:4]) or ('08min' == name[:5]): return 'blue'\n",
    "    elif ('10min' == name[:4]) or ('10min' == name[:5]): return 'yellow'\n",
    "    else: return 'r'\n",
    "\n",
    "#summarize results\n",
    "keys = ['00min', '02min', '04min', '06min','08min','10min']\n",
    "\n",
    "results, avg_results, avg_sigma = {},{},{}\n",
    "for key in keys:\n",
    "    results[key] = []\n",
    "    for name in filenames:\n",
    "        if (key == name[:4]) or (key == name[:5]):\n",
    "            results[key].append(SEM[name].popt_RDF[0])\n",
    "    avg_results[key] = np.nanmean(results[key])\n",
    "    avg_sigma[key] = np.std(results[key])"
   ]
  },
  {
   "cell_type": "code",
   "execution_count": null,
   "metadata": {
    "scrolled": false
   },
   "outputs": [],
   "source": [
    "#plot results\n",
    "\n",
    "fig3,ax3 = plt.subplots(figsize=(8,len(filenames)*0.3))\n",
    "\n",
    "for i,name in enumerate(filenames):\n",
    "    ax3.errorbar(SEM[name].popt_RDF[0], i, xerr=SEM[name].popt_RDF[1], \n",
    "                label=SEM[name].name, color=get_color(SEM[name].name), marker='o', capsize=4)\n",
    "\n",
    "ax3.minorticks_on()\n",
    "ax3.grid(axis = 'x', which='both')\n",
    "ax3.grid(axis = 'x', which='minor', linestyle=':')\n",
    "ax3.legend(loc='center left', bbox_to_anchor=(1.1, 0.5))\n",
    "ax3.set_xlabel('radial distance [nm]')\n",
    "ax3.set_yticks([])"
   ]
  },
  {
   "cell_type": "code",
   "execution_count": null,
   "metadata": {},
   "outputs": [],
   "source": [
    "#histogram\n",
    "\n",
    "fig4,ax4 = plt.subplots(figsize=(8,3))\n",
    "for key in keys:\n",
    "    ax4.hist(results[key], color=get_color(key), label=key, alpha=0.3)\n",
    "\n",
    "ax4.minorticks_on()\n",
    "ax4.grid(axis = 'x', which='both')\n",
    "ax4.grid(axis = 'x', which='minor', linestyle=':')\n",
    "ax4.legend()\n",
    "ax4.set_xlabel('radial distance [nm]')"
   ]
  },
  {
   "cell_type": "code",
   "execution_count": null,
   "metadata": {},
   "outputs": [],
   "source": [
    "#curve\n",
    "\n",
    "fig5,ax5 = plt.subplots(figsize=(8,4))\n",
    "\n",
    "ax5.plot([float(key.split('m')[0]) for key in keys], [avg_results[key] for key in keys], color='k')\n",
    "for key in keys:\n",
    "    ax5.errorbar(float(key.split('m')[0]), avg_results[key],yerr=avg_sigma[key],\n",
    "                capsize=4, color=get_color(key), marker='s', label=key)\n",
    "    \n",
    "ax5.legend()\n",
    "ax5.grid()\n",
    "ax5.set_xlabel('ozonization time [min]')\n",
    "ax5.set_ylabel('radial distance [nm]')"
   ]
  },
  {
   "cell_type": "code",
   "execution_count": null,
   "metadata": {},
   "outputs": [],
   "source": []
  },
  {
   "cell_type": "code",
   "execution_count": null,
   "metadata": {},
   "outputs": [],
   "source": []
  }
 ],
 "metadata": {
  "kernelspec": {
   "display_name": "Python 3",
   "language": "python",
   "name": "python3"
  },
  "language_info": {
   "codemirror_mode": {
    "name": "ipython",
    "version": 3
   },
   "file_extension": ".py",
   "mimetype": "text/x-python",
   "name": "python",
   "nbconvert_exporter": "python",
   "pygments_lexer": "ipython3",
   "version": "3.8.10"
  }
 },
 "nbformat": 4,
 "nbformat_minor": 4
}
